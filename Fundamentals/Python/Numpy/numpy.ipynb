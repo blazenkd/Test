{
 "cells": [
  {
   "cell_type": "code",
   "execution_count": null,
   "metadata": {},
   "outputs": [],
   "source": []
  },
  {
   "cell_type": "code",
   "execution_count": 2,
   "metadata": {},
   "outputs": [],
   "source": [
    "import numpy as np"
   ]
  },
  {
   "cell_type": "markdown",
   "metadata": {},
   "source": [
    "The Basics"
   ]
  },
  {
   "cell_type": "code",
   "execution_count": 3,
   "metadata": {},
   "outputs": [
    {
     "name": "stdout",
     "output_type": "stream",
     "text": [
      "[1, 2, 3]\n"
     ]
    },
    {
     "data": {
      "text/plain": [
       "array([1, 2, 3], dtype=int16)"
      ]
     },
     "execution_count": 3,
     "metadata": {},
     "output_type": "execute_result"
    }
   ],
   "source": [
    "'''\n",
    "What is an array in python?\n",
    "\n",
    "In Python, an array is a collection of elements of the same data type, stored in contiguous memory locations. \n",
    "An array can be of any data type such as integers, floating-point numbers, or strings. \n",
    "Arrays are used to store and manipulate a large number of elements efficiently.\n",
    "\n",
    "\n",
    "What is contiguous memory locations?\n",
    "\n",
    "Contiguous memory locations refer to a block of memory that is allocated for storing data, where all the memory addresses are consecutive or adjacent to each other. \n",
    "In other words, the memory addresses are in a sequence with no gaps between them.\n",
    "When data is stored in contiguous memory locations, it allows for fast access and manipulation of data because the processor can access the data directly \n",
    "For example, if we have an array of integers, and the array is stored in contiguous memory locations, we can access any element in the array by simply \n",
    "calculating its memory address based on the index of the element and the size of each integer in memory.without having to go through other memory locations.\n",
    "\n",
    "\n",
    "What is the difference between an array and a list?\n",
    "\n",
    "Data Types: In Python, a list can contain elements of different data types, such as integers, strings, and even other lists. On the other hand, an array is\n",
    "designed to store elements of the same data type. This is because arrays are stored in contiguous memory locations, and all elements must be of the same size.\n",
    "\n",
    "Memory Management: Arrays are more efficient in terms of memory management than lists, especially when dealing with large amounts of data. This is because arrays \n",
    "allocate a single block of memory for all elements, whereas lists allocate separate blocks of memory for each element.\n",
    "\n",
    "Functionality: Lists offer more functionality than arrays. For example, lists have built-in methods for sorting, reversing, and appending elements, \n",
    "whereas arrays do not. Additionally, lists can be easily resized, whereas arrays have a fixed size once they are created.\n",
    "\n",
    "Libraries: Python provides built-in support for lists, but arrays are implemented through the array module. \n",
    "Therefore, arrays may require additional code to use them in some situations.\n",
    "\n",
    "'''\n",
    "list = [1,2,3]\n",
    "print(list)\n",
    "a = np.array([1,2,3], dtype = 'int16')\n",
    "a"
   ]
  },
  {
   "cell_type": "code",
   "execution_count": 4,
   "metadata": {},
   "outputs": [
    {
     "data": {
      "text/plain": [
       "array([[9., 8., 7.],\n",
       "       [4., 5., 6.]])"
      ]
     },
     "execution_count": 4,
     "metadata": {},
     "output_type": "execute_result"
    }
   ],
   "source": [
    "b = np.array([[9.0, 8.0, 7.0], [4.0, 5.0, 6.0]])\n",
    "b"
   ]
  },
  {
   "cell_type": "code",
   "execution_count": 5,
   "metadata": {},
   "outputs": [
    {
     "data": {
      "text/plain": [
       "2"
      ]
     },
     "execution_count": 5,
     "metadata": {},
     "output_type": "execute_result"
    }
   ],
   "source": [
    "# Get Number of dimensions\n",
    "a.ndim\n",
    "b.ndim"
   ]
  },
  {
   "cell_type": "code",
   "execution_count": 6,
   "metadata": {},
   "outputs": [
    {
     "data": {
      "text/plain": [
       "(2, 3)"
      ]
     },
     "execution_count": 6,
     "metadata": {},
     "output_type": "execute_result"
    }
   ],
   "source": [
    "# Get Shape\n",
    "a.shape\n",
    "b.shape"
   ]
  },
  {
   "cell_type": "code",
   "execution_count": 7,
   "metadata": {},
   "outputs": [
    {
     "data": {
      "text/plain": [
       "dtype('int16')"
      ]
     },
     "execution_count": 7,
     "metadata": {},
     "output_type": "execute_result"
    }
   ],
   "source": [
    "# Get Type\n",
    "'''\n",
    "The main difference between int16 and int32 is the size of the integer data they can store.\n",
    "int16 (or short) can store integer values between -32,768 and 32,767. It uses 16 bits (or 2 bytes) of memory to represent each integer value.\n",
    "On the other hand, int32 (or int) can store integer values between -2,147,483,648 and 2,147,483,647. It uses 32 bits (or 4 bytes) of memory to represent each \n",
    "integer value.\n",
    "In other words, int32 can store much larger integer values than int16, but it requires more memory to do so. \n",
    "This means that if we need to store larger integers, we would choose int32 to ensure that we have enough memory to store the data.\n",
    "'''\n",
    "a.dtype"
   ]
  },
  {
   "cell_type": "code",
   "execution_count": 8,
   "metadata": {},
   "outputs": [
    {
     "data": {
      "text/plain": [
       "2"
      ]
     },
     "execution_count": 8,
     "metadata": {},
     "output_type": "execute_result"
    }
   ],
   "source": [
    "# Get Size\n",
    "a.itemsize"
   ]
  },
  {
   "cell_type": "code",
   "execution_count": 9,
   "metadata": {},
   "outputs": [
    {
     "data": {
      "text/plain": [
       "6"
      ]
     },
     "execution_count": 9,
     "metadata": {},
     "output_type": "execute_result"
    }
   ],
   "source": [
    "# Get total size\n",
    "a.nbytes"
   ]
  },
  {
   "cell_type": "code",
   "execution_count": 10,
   "metadata": {},
   "outputs": [
    {
     "name": "stdout",
     "output_type": "stream",
     "text": [
      "[[1. 2. 3.]\n",
      " [3. 4. 5.]]\n"
     ]
    }
   ],
   "source": [
    "# What will the following code print?\n",
    "b = np.array([[1.0,2.0,3.0],[3.0,4.0,5.0]])\n",
    "print(b)"
   ]
  },
  {
   "cell_type": "code",
   "execution_count": 11,
   "metadata": {},
   "outputs": [
    {
     "name": "stdout",
     "output_type": "stream",
     "text": [
      "[ 1  2 20  4  5]\n"
     ]
    },
    {
     "data": {
      "text/plain": [
       "'\\nExplanation:\\n\\nA numpy array a is created with values [1, 2, 3, 4, 5].\\nThe variable b is assigned to the same array as a, meaning both a and b refer to the same numpy array object in memory.\\nThe third element of b (which is also the third element of a) is changed to 20.\\nThe array a is printed, which shows the modified values of [1, 2, 20, 4, 5].\\nTherefore, changing the value of an element in b also changes the corresponding element in a because both \\nvariables refer to the same numpy array object in memory.\\n'"
      ]
     },
     "execution_count": 11,
     "metadata": {},
     "output_type": "execute_result"
    }
   ],
   "source": [
    "a = np.array([1, 2, 3, 4, 5])\n",
    "b = a\n",
    "b[2] = 20\n",
    "print(a)\n",
    "\n",
    "\"\"\"\n",
    "Explanation:\n",
    "\n",
    "A numpy array a is created with values [1, 2, 3, 4, 5].\n",
    "The variable b is assigned to the same array as a, meaning both a and b refer to the same numpy array object in memory.\n",
    "The third element of b (which is also the third element of a) is changed to 20.\n",
    "The array a is printed, which shows the modified values of [1, 2, 20, 4, 5].\n",
    "Therefore, changing the value of an element in b also changes the corresponding element in a because both \n",
    "variables refer to the same numpy array object in memory.\n",
    "\"\"\""
   ]
  }
 ],
 "metadata": {
  "kernelspec": {
   "display_name": "Python 3",
   "language": "python",
   "name": "python3"
  },
  "language_info": {
   "codemirror_mode": {
    "name": "ipython",
    "version": 3
   },
   "file_extension": ".py",
   "mimetype": "text/x-python",
   "name": "python",
   "nbconvert_exporter": "python",
   "pygments_lexer": "ipython3",
   "version": "3.11.1"
  },
  "orig_nbformat": 4,
  "vscode": {
   "interpreter": {
    "hash": "beb043d0e0dcaaba145a4f9aeab095a15ff6d3543103b23468440a8001c3c449"
   }
  }
 },
 "nbformat": 4,
 "nbformat_minor": 2
}
