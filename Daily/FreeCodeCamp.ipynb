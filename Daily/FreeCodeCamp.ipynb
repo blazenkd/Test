{
 "cells": [
  {
   "cell_type": "code",
   "execution_count": 35,
   "metadata": {},
   "outputs": [],
   "source": [
    "import numpy as np"
   ]
  },
  {
   "attachments": {},
   "cell_type": "markdown",
   "metadata": {},
   "source": [
    "The Basics"
   ]
  },
  {
   "cell_type": "code",
   "execution_count": 36,
   "metadata": {},
   "outputs": [
    {
     "name": "stdout",
     "output_type": "stream",
     "text": [
      "[1, 2, 3]\n"
     ]
    },
    {
     "data": {
      "text/plain": [
       "array([1, 2, 3], dtype=int16)"
      ]
     },
     "execution_count": 36,
     "metadata": {},
     "output_type": "execute_result"
    }
   ],
   "source": [
    "'''\n",
    "What is an array in python?\n",
    "\n",
    "In Python, an array is a collection of elements of the same data type, stored in contiguous memory locations. \n",
    "An array can be of any data type such as integers, floating-point numbers, or strings. \n",
    "Arrays are used to store and manipulate a large number of elements efficiently.\n",
    "\n",
    "\n",
    "What is contiguous memory locations?\n",
    "\n",
    "Contiguous memory locations refer to a block of memory that is allocated for storing data, where all the memory addresses are consecutive or adjacent to each other. \n",
    "In other words, the memory addresses are in a sequence with no gaps between them.\n",
    "When data is stored in contiguous memory locations, it allows for fast access and manipulation of data because the processor can access the data directly \n",
    "For example, if we have an array of integers, and the array is stored in contiguous memory locations, we can access any element in the array by simply \n",
    "calculating its memory address based on the index of the element and the size of each integer in memory.without having to go through other memory locations.\n",
    "\n",
    "\n",
    "What is the difference between an array and a list?\n",
    "\n",
    "Data Types: In Python, a list can contain elements of different data types, such as integers, strings, and even other lists. On the other hand, an array is\n",
    "designed to store elements of the same data type. This is because arrays are stored in contiguous memory locations, and all elements must be of the same size.\n",
    "\n",
    "Memory Management: Arrays are more efficient in terms of memory management than lists, especially when dealing with large amounts of data. This is because arrays \n",
    "allocate a single block of memory for all elements, whereas lists allocate separate blocks of memory for each element.\n",
    "\n",
    "Functionality: Lists offer more functionality than arrays. For example, lists have built-in methods for sorting, reversing, and appending elements, \n",
    "whereas arrays do not. Additionally, lists can be easily resized, whereas arrays have a fixed size once they are created.\n",
    "\n",
    "Libraries: Python provides built-in support for lists, but arrays are implemented through the array module. \n",
    "Therefore, arrays may require additional code to use them in some situations.\n",
    "\n",
    "'''\n",
    "list = [1,2,3]\n",
    "print(list)\n",
    "a = np.array([1,2,3], dtype = 'int16')\n",
    "a"
   ]
  },
  {
   "cell_type": "code",
   "execution_count": 37,
   "metadata": {},
   "outputs": [
    {
     "data": {
      "text/plain": [
       "array([[9., 8., 7.],\n",
       "       [4., 5., 6.]])"
      ]
     },
     "execution_count": 37,
     "metadata": {},
     "output_type": "execute_result"
    }
   ],
   "source": [
    "b = np.array([[9.0, 8.0, 7.0], [4.0, 5.0, 6.0]])\n",
    "b"
   ]
  },
  {
   "cell_type": "code",
   "execution_count": 38,
   "metadata": {},
   "outputs": [
    {
     "data": {
      "text/plain": [
       "2"
      ]
     },
     "execution_count": 38,
     "metadata": {},
     "output_type": "execute_result"
    }
   ],
   "source": [
    "# Get Number of dimensions\n",
    "a.ndim\n",
    "b.ndim"
   ]
  },
  {
   "cell_type": "code",
   "execution_count": 39,
   "metadata": {},
   "outputs": [
    {
     "data": {
      "text/plain": [
       "(2, 3)"
      ]
     },
     "execution_count": 39,
     "metadata": {},
     "output_type": "execute_result"
    }
   ],
   "source": [
    "# Get Shape\n",
    "a.shape\n",
    "b.shape"
   ]
  },
  {
   "cell_type": "code",
   "execution_count": 40,
   "metadata": {},
   "outputs": [
    {
     "data": {
      "text/plain": [
       "dtype('int16')"
      ]
     },
     "execution_count": 40,
     "metadata": {},
     "output_type": "execute_result"
    }
   ],
   "source": [
    "# Get Type\n",
    "'''\n",
    "The main difference between int16 and int32 is the size of the integer data they can store.\n",
    "int16 (or short) can store integer values between -32,768 and 32,767. It uses 16 bits (or 2 bytes) of memory to represent each integer value.\n",
    "On the other hand, int32 (or int) can store integer values between -2,147,483,648 and 2,147,483,647. It uses 32 bits (or 4 bytes) of memory to represent each \n",
    "integer value.\n",
    "In other words, int32 can store much larger integer values than int16, but it requires more memory to do so. \n",
    "This means that if we need to store larger integers, we would choose int32 to ensure that we have enough memory to store the data.\n",
    "'''\n",
    "a.dtype"
   ]
  },
  {
   "cell_type": "code",
   "execution_count": 41,
   "metadata": {},
   "outputs": [
    {
     "data": {
      "text/plain": [
       "2"
      ]
     },
     "execution_count": 41,
     "metadata": {},
     "output_type": "execute_result"
    }
   ],
   "source": [
    "# Get Size\n",
    "a.itemsize"
   ]
  },
  {
   "cell_type": "code",
   "execution_count": 42,
   "metadata": {},
   "outputs": [
    {
     "data": {
      "text/plain": [
       "6"
      ]
     },
     "execution_count": 42,
     "metadata": {},
     "output_type": "execute_result"
    }
   ],
   "source": [
    "# Get total size\n",
    "a.nbytes"
   ]
  },
  {
   "cell_type": "code",
   "execution_count": 43,
   "metadata": {},
   "outputs": [
    {
     "name": "stdout",
     "output_type": "stream",
     "text": [
      "[[1. 2. 3.]\n",
      " [3. 4. 5.]]\n"
     ]
    }
   ],
   "source": [
    "# What will the following code print?\n",
    "b = np.array([[1.0,2.0,3.0],[3.0,4.0,5.0]])\n",
    "print(b)"
   ]
  },
  {
   "attachments": {},
   "cell_type": "markdown",
   "metadata": {},
   "source": [
    "Accessing/Changing specific element, rows, columns etc."
   ]
  },
  {
   "cell_type": "code",
   "execution_count": 87,
   "metadata": {},
   "outputs": [
    {
     "data": {
      "text/plain": [
       "array([[ 1,  2,  3,  4,  5,  6,  7],\n",
       "       [ 8,  9, 10, 11, 12, 13, 14]])"
      ]
     },
     "execution_count": 87,
     "metadata": {},
     "output_type": "execute_result"
    }
   ],
   "source": [
    "a = np.array([[1,2,3,4,5,6,7],[8,9,10,11,12,13,14]])\n",
    "a"
   ]
  },
  {
   "cell_type": "code",
   "execution_count": 45,
   "metadata": {},
   "outputs": [
    {
     "data": {
      "text/plain": [
       "13"
      ]
     },
     "execution_count": 45,
     "metadata": {},
     "output_type": "execute_result"
    }
   ],
   "source": [
    "# Get a specific element [r,c]\n",
    "# For example if we want the 13 value\n",
    "a[1,5]\n"
   ]
  },
  {
   "cell_type": "code",
   "execution_count": 46,
   "metadata": {},
   "outputs": [
    {
     "data": {
      "text/plain": [
       "array([1, 2, 3, 4, 5, 6, 7])"
      ]
     },
     "execution_count": 46,
     "metadata": {},
     "output_type": "execute_result"
    }
   ],
   "source": [
    "# Get a specific row\n",
    "a[0, :]"
   ]
  },
  {
   "cell_type": "code",
   "execution_count": 47,
   "metadata": {},
   "outputs": [
    {
     "data": {
      "text/plain": [
       "array([ 3, 10])"
      ]
     },
     "execution_count": 47,
     "metadata": {},
     "output_type": "execute_result"
    }
   ],
   "source": [
    "# Get a specific column\n",
    "a[:, 2]"
   ]
  },
  {
   "cell_type": "code",
   "execution_count": 48,
   "metadata": {},
   "outputs": [
    {
     "data": {
      "text/plain": [
       "array([2, 4, 6])"
      ]
     },
     "execution_count": 48,
     "metadata": {},
     "output_type": "execute_result"
    }
   ],
   "source": [
    "# Get a little more fancy [startindexLstopindex:stepsize]\n",
    "a[0, 1:6:2]"
   ]
  },
  {
   "cell_type": "code",
   "execution_count": 49,
   "metadata": {},
   "outputs": [
    {
     "data": {
      "text/plain": [
       "array([[ 1,  2,  3,  4,  5,  6,  7],\n",
       "       [ 8,  9, 10, 11, 12, 20, 14]])"
      ]
     },
     "execution_count": 49,
     "metadata": {},
     "output_type": "execute_result"
    }
   ],
   "source": [
    "# Change 13 to 20\n",
    "a[1,5] = 20\n",
    "a"
   ]
  },
  {
   "cell_type": "code",
   "execution_count": 50,
   "metadata": {},
   "outputs": [
    {
     "data": {
      "text/plain": [
       "array([[ 1,  2,  3,  4,  5, 10,  7],\n",
       "       [ 8,  9, 10, 11, 12, 10, 14]])"
      ]
     },
     "execution_count": 50,
     "metadata": {},
     "output_type": "execute_result"
    }
   ],
   "source": [
    "# Change the 6th column\n",
    "a[:,5] = 10\n",
    "a"
   ]
  },
  {
   "cell_type": "code",
   "execution_count": 63,
   "metadata": {},
   "outputs": [
    {
     "data": {
      "text/plain": [
       "array([[[1, 2],\n",
       "        [3, 4]],\n",
       "\n",
       "       [[5, 6],\n",
       "        [7, 8]]])"
      ]
     },
     "execution_count": 63,
     "metadata": {},
     "output_type": "execute_result"
    }
   ],
   "source": [
    "# 3-D Example\n",
    "b = np.array([[[1,2],[3,4]],[[5,6],[7,8]]])\n",
    "b"
   ]
  },
  {
   "cell_type": "code",
   "execution_count": 64,
   "metadata": {},
   "outputs": [
    {
     "data": {
      "text/plain": [
       "8"
      ]
     },
     "execution_count": 64,
     "metadata": {},
     "output_type": "execute_result"
    }
   ],
   "source": [
    "# Get specific element (Work outside in)\n",
    "# Get 8\n",
    "b[1,1,1]"
   ]
  },
  {
   "cell_type": "code",
   "execution_count": 65,
   "metadata": {},
   "outputs": [
    {
     "name": "stdout",
     "output_type": "stream",
     "text": [
      "[[3 4]\n",
      " [7 8]]\n"
     ]
    },
    {
     "data": {
      "text/plain": [
       "array([[[1, 2],\n",
       "        [1, 2]],\n",
       "\n",
       "       [[5, 6],\n",
       "        [3, 4]]])"
      ]
     },
     "execution_count": 65,
     "metadata": {},
     "output_type": "execute_result"
    }
   ],
   "source": [
    "# Replace (Needs to be same dimension)\n",
    "print(b[:,1,:])\n",
    "b[:,1,:] = [[1,2],[3,4]]\n",
    "b"
   ]
  },
  {
   "attachments": {},
   "cell_type": "markdown",
   "metadata": {},
   "source": [
    "Initializing Different Types of Arrays"
   ]
  },
  {
   "cell_type": "code",
   "execution_count": 81,
   "metadata": {},
   "outputs": [
    {
     "data": {
      "text/plain": [
       "array([[0., 0., 0.],\n",
       "       [0., 0., 0.]])"
      ]
     },
     "execution_count": 81,
     "metadata": {},
     "output_type": "execute_result"
    }
   ],
   "source": [
    "# All 0s Matrix\n",
    "\n",
    "'''\n",
    "The below code creates a NumPy array of shape (2, 3) containing all zeros.\n",
    "\n",
    "Here's how it works:\n",
    "\n",
    "    # np.zeros is a NumPy function that creates an array of a given shape and type, filled with zeros.\n",
    "    # The argument to np.zeros is a tuple (2, 3), specifying the shape of the array. In this case, the array will have 2 rows and 3 columns.\n",
    "    # The resulting array will have a data type of float64 by default, but we can specify a different data type by passing the dtype argument to the np.zeros function.\n",
    "'''\n",
    "np.zeros((2,3))"
   ]
  },
  {
   "cell_type": "code",
   "execution_count": 82,
   "metadata": {},
   "outputs": [
    {
     "data": {
      "text/plain": [
       "array([[[0., 0.],\n",
       "        [0., 0.],\n",
       "        [0., 0.]],\n",
       "\n",
       "       [[0., 0.],\n",
       "        [0., 0.],\n",
       "        [0., 0.]]])"
      ]
     },
     "execution_count": 82,
     "metadata": {},
     "output_type": "execute_result"
    }
   ],
   "source": [
    "'''\n",
    "The below code creates a 3-dimensional NumPy array of shape (2, 3, 2) containing all zeros.\n",
    "\n",
    "Here's how it works:\n",
    "\n",
    "np.zeros is a NumPy function that creates an array of a given shape and type, filled with zeros.\n",
    "The argument to np.zeros is a tuple (2, 3, 2), specifying the shape of the array. In this case, the array will have 2 \"layers\", each with 3 rows and 2 columns.\n",
    "The resulting array will have a data type of float64 by default, but we can specify a different data type by passing the dtype argument to the np.zeros function.\n",
    "'''\n",
    "\n",
    "np.zeros((2,3,2))"
   ]
  },
  {
   "cell_type": "code",
   "execution_count": 83,
   "metadata": {},
   "outputs": [
    {
     "data": {
      "text/plain": [
       "array([[[1, 1],\n",
       "        [1, 1]],\n",
       "\n",
       "       [[1, 1],\n",
       "        [1, 1]],\n",
       "\n",
       "       [[1, 1],\n",
       "        [1, 1]],\n",
       "\n",
       "       [[1, 1],\n",
       "        [1, 1]]])"
      ]
     },
     "execution_count": 83,
     "metadata": {},
     "output_type": "execute_result"
    }
   ],
   "source": [
    "# All 1's matrix\n",
    "np.ones((4,2,2), dtype=\"int32\")"
   ]
  },
  {
   "cell_type": "code",
   "execution_count": 85,
   "metadata": {},
   "outputs": [
    {
     "data": {
      "text/plain": [
       "array([[99., 99.],\n",
       "       [99., 99.]], dtype=float32)"
      ]
     },
     "execution_count": 85,
     "metadata": {},
     "output_type": "execute_result"
    }
   ],
   "source": [
    "# Any other number (shape, value)\n",
    "np.full((2,2), 99, dtype=\"float32\")"
   ]
  },
  {
   "cell_type": "code",
   "execution_count": 89,
   "metadata": {},
   "outputs": [
    {
     "data": {
      "text/plain": [
       "array([[4, 4, 4, 4, 4, 4, 4],\n",
       "       [4, 4, 4, 4, 4, 4, 4]])"
      ]
     },
     "execution_count": 89,
     "metadata": {},
     "output_type": "execute_result"
    }
   ],
   "source": [
    "# Any other number (full_like)\n",
    "np.full_like(a, 4)"
   ]
  },
  {
   "cell_type": "code",
   "execution_count": 90,
   "metadata": {},
   "outputs": [
    {
     "data": {
      "text/plain": [
       "array([[0.82649214, 0.39698883],\n",
       "       [0.18143217, 0.21609357],\n",
       "       [0.57637842, 0.40970817],\n",
       "       [0.13027391, 0.63555317]])"
      ]
     },
     "execution_count": 90,
     "metadata": {},
     "output_type": "execute_result"
    }
   ],
   "source": [
    "# Random decimal numbers\n",
    "np.random.rand(4,2)"
   ]
  },
  {
   "cell_type": "code",
   "execution_count": 91,
   "metadata": {},
   "outputs": [
    {
     "name": "stdout",
     "output_type": "stream",
     "text": [
      "[[100 100 100 100 100]\n",
      " [100 100 100 100 100]]\n"
     ]
    }
   ],
   "source": [
    "# What will the following code print?\n",
    "'''\n",
    "The code creates a NumPy array a with shape (2, 5) containing the values from 1 to 10, and then uses the np.full_like function to create a \n",
    "new array with the same shape as a but filled with the value 100.\n",
    "\n",
    "The np.full_like function creates a new array with the same shape and data type as the input array, but with all elements set to a specified value. \n",
    "In this case, the function call np.full_like(a, 100) creates a new array with the same shape as a, which is (2, 5), and fills it with the value 100.\n",
    "'''\n",
    "\n",
    "a = np.array([[1, 2, 3, 4, 5], [6, 7, 8, 9, 10]])\n",
    "\n",
    "print(np.full_like(a, 100))"
   ]
  },
  {
   "cell_type": "code",
   "execution_count": 92,
   "metadata": {},
   "outputs": [
    {
     "data": {
      "text/plain": [
       "array([[1., 0., 0., 0., 0.],\n",
       "       [0., 1., 0., 0., 0.],\n",
       "       [0., 0., 1., 0., 0.],\n",
       "       [0., 0., 0., 1., 0.],\n",
       "       [0., 0., 0., 0., 1.]])"
      ]
     },
     "execution_count": 92,
     "metadata": {},
     "output_type": "execute_result"
    }
   ],
   "source": [
    "# The Identity Matrix\n",
    "'''\n",
    "What is it used for?\n",
    "\n",
    "Matrix operations: The identity matrix is the neutral element of matrix multiplication. \n",
    "When a matrix is multiplied by the identity matrix, the result is the same as the original matrix. \n",
    "The identity matrix is also used to define the inverse of a matrix.\n",
    "\n",
    "Linear transformations: In linear algebra, the identity matrix is used to represent the identity transformation, \n",
    "which is a linear transformation that leaves all points unchanged. It is often used as a reference frame in the study of linear transformations, \n",
    "which are used to model many physical and biological phenomena.\n",
    "\n",
    "Geometry: In geometry, the identity matrix is used to represent the identity transformation in Euclidean space, \n",
    "which is a translation that leaves all distances and angles unchanged. \n",
    "It is used to represent the concept of an \"unchanged\" object, such as a point or a vector.\n",
    "\n",
    "Computer graphics: In computer graphics, the identity matrix is used to represent the identity transformation of an object in a 3D scene. \n",
    "It is used to position, orient, and scale objects in a scene.\n",
    "\n",
    "Probability theory: In probability theory, the identity matrix is used to represent the identity function in the calculation of \n",
    "expectations, variances, and covariance matrices of random variables.\n",
    "'''\n",
    "\n",
    "np.identity(5)\n"
   ]
  },
  {
   "cell_type": "code",
   "execution_count": 94,
   "metadata": {},
   "outputs": [
    {
     "name": "stdout",
     "output_type": "stream",
     "text": [
      "[[1 2 3]\n",
      " [1 2 3]\n",
      " [1 2 3]]\n"
     ]
    }
   ],
   "source": [
    "# Repeat an array\n",
    "'''\n",
    "The code creates a NumPy array arr with shape (1, 3) containing the values 1, 2, and 3, and then uses the np.repeat function to create a new array r1 by \n",
    "repeating arr three times along the first axis (rows).\n",
    "\n",
    "The np.repeat function takes three arguments: the input array to be repeated, the number of repetitions, and the axis along which to repeat the array. \n",
    "In this case, the function call np.repeat(arr, 3, axis=0) repeats the array arr three times along the first axis (rows), resulting in an array with shape (3, 3).\n",
    "'''\n",
    "\n",
    "arr = np.array([[1,2,3]])\n",
    "r1 = np.repeat(arr, 3, axis = 0)\n",
    "print(r1)"
   ]
  },
  {
   "cell_type": "code",
   "execution_count": null,
   "metadata": {},
   "outputs": [],
   "source": []
  }
 ],
 "metadata": {
  "kernelspec": {
   "display_name": "Python 3",
   "language": "python",
   "name": "python3"
  },
  "language_info": {
   "codemirror_mode": {
    "name": "ipython",
    "version": 3
   },
   "file_extension": ".py",
   "mimetype": "text/x-python",
   "name": "python",
   "nbconvert_exporter": "python",
   "pygments_lexer": "ipython3",
   "version": "3.11.1"
  },
  "orig_nbformat": 4,
  "vscode": {
   "interpreter": {
    "hash": "beb043d0e0dcaaba145a4f9aeab095a15ff6d3543103b23468440a8001c3c449"
   }
  }
 },
 "nbformat": 4,
 "nbformat_minor": 2
}
